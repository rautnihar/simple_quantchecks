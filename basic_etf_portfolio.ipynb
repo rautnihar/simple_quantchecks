{
 "cells": [
  {
   "cell_type": "code",
   "execution_count": 58,
   "id": "1095a7f7-370f-42be-ad2f-cde5808928f0",
   "metadata": {},
   "outputs": [],
   "source": [
    "#!pip install yfinance\n"
   ]
  },
  {
   "cell_type": "code",
   "execution_count": 59,
   "id": "868f41b0-3198-4cd7-bda3-fcb1d689a726",
   "metadata": {},
   "outputs": [],
   "source": [
    "#!pip install pyportfolioopt\n"
   ]
  },
  {
   "cell_type": "code",
   "execution_count": 399,
   "id": "00fe0d2a-c050-448c-b210-07664acad32a",
   "metadata": {},
   "outputs": [],
   "source": [
    "import yfinance as yf\n",
    "import pandas as pd\n",
    "import numpy as np\n",
    "from pypfopt.efficient_frontier import EfficientFrontier\n",
    "from pypfopt.hierarchical_portfolio import HRPOpt\n",
    "from pypfopt.cla import CLA\n",
    "from pypfopt import risk_models\n",
    "from pypfopt import expected_returns\n",
    "import datetime as dt\n",
    "from dateutil.relativedelta import relativedelta"
   ]
  },
  {
   "cell_type": "code",
   "execution_count": 234,
   "id": "389463ef-114e-4508-aea2-758630689f29",
   "metadata": {},
   "outputs": [],
   "source": [
    "tickers = ['SPY', 'EEM', 'TIP', 'IAU', 'DBC', 'TLT', 'VGK', 'IWM','LQD','VNQ', 'SHY', 'IWM','QQQ','HYG']"
   ]
  },
  {
   "cell_type": "code",
   "execution_count": 235,
   "id": "3b687c15-d5c2-49fe-bf6f-55a91bf85eff",
   "metadata": {},
   "outputs": [
    {
     "name": "stdout",
     "output_type": "stream",
     "text": [
      "[*********************100%%**********************]  13 of 13 completed\n"
     ]
    }
   ],
   "source": [
    "prices = yf.download(tickers=tickers)"
   ]
  },
  {
   "cell_type": "code",
   "execution_count": 236,
   "id": "1381ed5c-4f57-4a0b-9f11-cf4163e50d63",
   "metadata": {},
   "outputs": [],
   "source": [
    "prices.to_csv(\"price_data.csv\")"
   ]
  },
  {
   "cell_type": "code",
   "execution_count": 429,
   "id": "5ce4cf23-8361-453f-98c7-2dc905a5634d",
   "metadata": {},
   "outputs": [],
   "source": [
    "subset_tickers = ['SPY', 'EEM', 'TIP', 'IAU', 'DBC', 'TLT', 'VGK', 'IWM','LQD','VNQ', 'SHY','QQQ','HYG']"
   ]
  },
  {
   "cell_type": "code",
   "execution_count": 430,
   "id": "f71b48fb-9c37-4004-9567-7c5695578c61",
   "metadata": {},
   "outputs": [
    {
     "name": "stdout",
     "output_type": "stream",
     "text": [
      "SPY :  1993-01-29\n",
      "EEM :  2003-04-14\n",
      "TIP :  2003-12-05\n",
      "IAU :  2005-01-28\n",
      "DBC :  2006-02-06\n",
      "DBC :  2006-02-06\n",
      "TLT :  2002-07-30\n",
      "VGK :  2005-03-10\n",
      "IWM :  2000-05-26\n",
      "LQD :  2002-07-30\n",
      "VNQ :  2004-09-29\n",
      "SHY :  2002-07-30\n",
      "QQQ :  1999-03-10\n",
      "HYG :  2007-04-11\n"
     ]
    }
   ],
   "source": [
    "# Preprocess df for adjusted close only\n",
    "adjclose = prices[prices.columns[:len(tickers)+1]]\n",
    "adjclose.columns = [x[1] for x in adjclose.columns]\n",
    "adjclose = adjclose.reset_index().rename(columns={'Date':'date'})\n",
    "adjclose['date'] = pd.to_datetime(adjclose['date']).dt.date\n",
    "adjclose.set_index(['date'], inplace=True)\n",
    "adjclose = adjclose[subset_tickers]\n",
    "# Check the start dates\n",
    "for c in adjclose.columns:\n",
    "    print(c , \": \", adjclose[c].first_valid_index())\n",
    "adjclose.dropna(inplace=True)"
   ]
  },
  {
   "cell_type": "code",
   "execution_count": 424,
   "id": "ba00c7a9-8d9b-43ad-b15b-071f63f61bc6",
   "metadata": {},
   "outputs": [],
   "source": [
    "# We create a rebalance logic for historical backtest style analyis\n",
    "rebal_date = dt.datetime.strptime('2012-01-01', '%Y-%m-%d').date()\n",
    "port_wts = {}\n",
    "for ddate in adjclose.index.unique():\n",
    "    if ddate>= rebal_date:\n",
    "        adjclose_t = adjclose.loc[(adjclose.index <= ddate)]\n",
    "        mu = expected_returns.mean_historical_return(adjclose_t)\n",
    "        S = risk_models.exp_cov(adjclose_t, span = 180)\n",
    "       # ret = adjclose_t.shift(-1)/adjclose_t-1\n",
    "        ef = EfficientFrontier(mu, S,weight_bounds=(0,0.25))\n",
    "        weights = ef.efficient_risk(target_volatility=0.1)   \n",
    "        port_wts[ddate] = weights\n",
    "        rebal_date = rebal_date + relativedelta(months=1)\n",
    "    "
   ]
  },
  {
   "cell_type": "code",
   "execution_count": 431,
   "id": "9b56244d-663b-4e4a-b015-9dd77b9fedd1",
   "metadata": {},
   "outputs": [],
   "source": [
    "# Portfolio processing\n",
    "portfolio_wts = pd.DataFrame(port_wts).T\n",
    "adjclose_return = adjclose.loc[(adjclose.index.isin(portfolio_wts.index))].shift(-1)/adjclose.loc[(adjclose.index.isin(portfolio_wts.index))]-1\n",
    "fwd_return = adjclose.loc[(adjclose.index.isin(portfolio_wts.index))].shift(-1)/adjclose.loc[(adjclose.index.isin(portfolio_wts.index))]\n",
    "portfolio_wts[portfolio_wts<0.01] = 0\n",
    "port_ret = portfolio_wts*adjclose_return\n",
    "cumulative_return_series = (port_ret.sum(axis=1)+1).cumprod()\n",
    "cumulative_return = (cumulative_return.tail(1)-1)\n",
    "annualized_ret = (cumulative_return_series.tail(1).values[0]**(12/len(cumulative_return_series))-1)\n",
    "annualized_vol =  port_ret.sum(axis=1).std()*np.sqrt(12)"
   ]
  },
  {
   "cell_type": "code",
   "execution_count": 427,
   "id": "39385984-f22a-4c70-b50e-0a2f649cff48",
   "metadata": {},
   "outputs": [
    {
     "name": "stdout",
     "output_type": "stream",
     "text": [
      "Cumulative return:  2023-11-01   -0.461971\n",
      "dtype: float64\n",
      "Portfolio Annual returs:  0.04348516838239025\n",
      "Portfolio Vol:  0.0913396068122931\n",
      "Portfolio sharpe:  0.476082281279732\n"
     ]
    }
   ],
   "source": [
    "print(\"Cumulative return: \" , cumulative_return)\n",
    "print(\"Portfolio Annual returs: \",annualized_ret )\n",
    "print(\"Portfolio Vol: \",annualized_vol)\n",
    "print(\"Portfolio sharpe: \", annualized_ret/annualized_vol)"
   ]
  },
  {
   "cell_type": "code",
   "execution_count": null,
   "id": "65a098a4-7323-47ea-93b0-30c310a0037a",
   "metadata": {},
   "outputs": [],
   "source": []
  },
  {
   "cell_type": "code",
   "execution_count": null,
   "id": "972ce124-2508-44ea-8e1c-7368a27416ad",
   "metadata": {},
   "outputs": [],
   "source": []
  }
 ],
 "metadata": {
  "kernelspec": {
   "display_name": "Python 3 (ipykernel)",
   "language": "python",
   "name": "python3"
  },
  "language_info": {
   "codemirror_mode": {
    "name": "ipython",
    "version": 3
   },
   "file_extension": ".py",
   "mimetype": "text/x-python",
   "name": "python",
   "nbconvert_exporter": "python",
   "pygments_lexer": "ipython3",
   "version": "3.11.3"
  }
 },
 "nbformat": 4,
 "nbformat_minor": 5
}
